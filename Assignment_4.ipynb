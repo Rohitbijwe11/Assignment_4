{
 "cells": [
  {
   "cell_type": "code",
   "execution_count": 1,
   "id": "4a407f23-4e4b-4c5c-b1ed-88d3a55f3fed",
   "metadata": {},
   "outputs": [],
   "source": [
    "#Q1=\n",
    "def test1():\n",
    "    odd_numbers = []\n",
    "    for num in range(1, 26):\n",
    "        if num % 2 != 0:\n",
    "            odd_numbers.append(num)\n",
    "    return odd_numbers"
   ]
  },
  {
   "cell_type": "code",
   "execution_count": 3,
   "id": "878067d7-38bd-455a-aff7-8d4626c31af2",
   "metadata": {},
   "outputs": [],
   "source": [
    "#Q2=\n",
    "#(*args) return the value that you gave as an input\n",
    "def test2(*args):\n",
    "    return args"
   ]
  },
  {
   "cell_type": "code",
   "execution_count": 4,
   "id": "fa5f8406-3f18-48b1-a870-31fe8b1084ef",
   "metadata": {},
   "outputs": [
    {
     "data": {
      "text/plain": [
       "('rohit', [12345])"
      ]
     },
     "execution_count": 4,
     "metadata": {},
     "output_type": "execute_result"
    }
   ],
   "source": [
    "test2('rohit',[12345])"
   ]
  },
  {
   "cell_type": "code",
   "execution_count": 5,
   "id": "c1d0fd67-8501-4417-8f80-caedcf65b29f",
   "metadata": {},
   "outputs": [],
   "source": [
    "#(**kargs) return the value as dict form\n",
    "def test3(**kargs):\n",
    "    return kargs"
   ]
  },
  {
   "cell_type": "code",
   "execution_count": 6,
   "id": "ec75427a-17fd-417e-9482-638b8075282b",
   "metadata": {},
   "outputs": [
    {
     "data": {
      "text/plain": [
       "{'a': 'rohit', 'b': [1234]}"
      ]
     },
     "execution_count": 6,
     "metadata": {},
     "output_type": "execute_result"
    }
   ],
   "source": [
    "test3(a='rohit',b=[1234])"
   ]
  },
  {
   "cell_type": "code",
   "execution_count": 11,
   "id": "064fc1e0-ae57-4762-a3c8-7ebea97cca8d",
   "metadata": {},
   "outputs": [
    {
     "name": "stdout",
     "output_type": "stream",
     "text": [
      "2\n",
      "4\n",
      "6\n",
      "8\n",
      "10\n"
     ]
    }
   ],
   "source": [
    "#Q3=\n",
    "l= [2, 4, 6, 8, 10, 12, 14, 16, 18, 20]\n",
    "num = iter(l)\n",
    "\n",
    "for i in range(5):\n",
    "    print(next(num))"
   ]
  },
  {
   "cell_type": "code",
   "execution_count": null,
   "id": "913f3e3c-ceab-4fb7-b7c6-8afb496d9611",
   "metadata": {},
   "outputs": [],
   "source": [
    "#Q4=\n",
    "'''A generator function in Python is a special type of function that generates an iterable sequence of values on the fly instead of returning them all at once.\n",
    "It is defined using the def keyword followed by the function name,\n",
    "and it contains one or more yield statements that generate values one at a time. '''\n"
   ]
  },
  {
   "cell_type": "code",
   "execution_count": 16,
   "id": "5d3c32ce-11d5-466b-a785-e33af7cd343e",
   "metadata": {},
   "outputs": [],
   "source": [
    "#Q5=\n",
    "def primes():\n",
    "    num = 2\n",
    "    while True:\n",
    "        for i in range(2, int(num ** 0.5) + 1):\n",
    "            if num % i == 0:\n",
    "                break\n",
    "        else:\n",
    "            yield num\n",
    "        num += 1\n",
    "        if num >= 1000:\n",
    "            break"
   ]
  },
  {
   "cell_type": "code",
   "execution_count": 21,
   "id": "58ed4a67-5b8a-4929-b393-d32ed31dea23",
   "metadata": {},
   "outputs": [
    {
     "name": "stdin",
     "output_type": "stream",
     "text": [
      "enter the number 10\n"
     ]
    },
    {
     "name": "stdout",
     "output_type": "stream",
     "text": [
      "0\n",
      "1\n",
      "1\n",
      "2\n",
      "3\n",
      "5\n",
      "8\n",
      "13\n",
      "21\n",
      "34\n"
     ]
    }
   ],
   "source": [
    "#Q6=\n",
    "num=int(input('enter the number'))\n",
    "a=0\n",
    "b=1\n",
    "counter=0\n",
    "while counter<num:\n",
    "        print(a)\n",
    "        c=a+b\n",
    "        a=b\n",
    "        b=c\n",
    "        counter=counter+1\n",
    "        "
   ]
  },
  {
   "cell_type": "code",
   "execution_count": 22,
   "id": "deec0efd-a14f-406d-9705-5769789f8c98",
   "metadata": {},
   "outputs": [
    {
     "name": "stdout",
     "output_type": "stream",
     "text": [
      "['p', 'w', 's', 'k', 'i', 'l', 'l', 's']\n"
     ]
    }
   ],
   "source": [
    "#Q7=\n",
    "string = 'pwskills'\n",
    "result = [char for char in string]\n",
    "print(result)"
   ]
  },
  {
   "cell_type": "code",
   "execution_count": null,
   "id": "2bb678b6-b827-4589-b4ce-bb1d3b424934",
   "metadata": {},
   "outputs": [],
   "source": [
    "#Q8=\n"
   ]
  }
 ],
 "metadata": {
  "kernelspec": {
   "display_name": "Python 3 (ipykernel)",
   "language": "python",
   "name": "python3"
  },
  "language_info": {
   "codemirror_mode": {
    "name": "ipython",
    "version": 3
   },
   "file_extension": ".py",
   "mimetype": "text/x-python",
   "name": "python",
   "nbconvert_exporter": "python",
   "pygments_lexer": "ipython3",
   "version": "3.10.8"
  }
 },
 "nbformat": 4,
 "nbformat_minor": 5
}
